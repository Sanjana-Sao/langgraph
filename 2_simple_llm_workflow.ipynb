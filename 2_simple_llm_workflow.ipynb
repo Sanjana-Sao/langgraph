{
 "cells": [
  {
   "cell_type": "code",
   "execution_count": 1,
   "id": "398994d2",
   "metadata": {},
   "outputs": [],
   "source": [
    "from langgraph.graph import StateGraph, START, END\n",
    "from langchain_openai import ChatOpenAI\n",
    "from typing import TypedDict\n",
    "from dotenv import load_dotenv\n",
    "import os"
   ]
  },
  {
   "cell_type": "code",
   "execution_count": 2,
   "id": "4abe99d6",
   "metadata": {},
   "outputs": [
    {
     "data": {
      "text/plain": [
       "True"
      ]
     },
     "execution_count": 2,
     "metadata": {},
     "output_type": "execute_result"
    }
   ],
   "source": [
    "load_dotenv()"
   ]
  },
  {
   "cell_type": "code",
   "execution_count": 3,
   "id": "b19def8e",
   "metadata": {},
   "outputs": [],
   "source": [
    "os.environ[\"GROQ_API_KEY\"] =  os.getenv(\"groq\")\n",
    "os.environ[\"TAVILY_API_KEY\"] = os.getenv(\"tavily_api\")"
   ]
  },
  {
   "cell_type": "code",
   "execution_count": 4,
   "id": "1ccd0e58",
   "metadata": {},
   "outputs": [],
   "source": [
    "from langchain_groq import ChatGroq\n",
    "\n",
    "llm = ChatGroq(\n",
    "    model=\"qwen/qwen3-32b\")"
   ]
  },
  {
   "cell_type": "code",
   "execution_count": 4,
   "id": "3d732ea4",
   "metadata": {},
   "outputs": [],
   "source": [
    "model = ChatOpenAI()"
   ]
  },
  {
   "cell_type": "code",
   "execution_count": 5,
   "id": "595d1707",
   "metadata": {},
   "outputs": [],
   "source": [
    "# create a state\n",
    "\n",
    "class LLMState(TypedDict):\n",
    "\n",
    "    question: str\n",
    "    answer: str"
   ]
  },
  {
   "cell_type": "code",
   "execution_count": 6,
   "id": "6f48a04d",
   "metadata": {},
   "outputs": [],
   "source": [
    "def llm_qa(state: LLMState) -> LLMState:\n",
    "\n",
    "    # extract the question from state\n",
    "    question = state['question']\n",
    "\n",
    "    # form a prompt\n",
    "    prompt = f'Answer the following question {question}'\n",
    "\n",
    "    # ask that question to the LLM\n",
    "    answer = llm.invoke(prompt).content\n",
    "\n",
    "    # update the answer in the state\n",
    "    state['answer'] = answer\n",
    "\n",
    "    return state"
   ]
  },
  {
   "cell_type": "code",
   "execution_count": 7,
   "id": "0cd56cd3",
   "metadata": {},
   "outputs": [],
   "source": [
    "# create our graph\n",
    "\n",
    "graph = StateGraph(LLMState)\n",
    "\n",
    "# add nodes\n",
    "graph.add_node('llm_qa', llm_qa)\n",
    "\n",
    "# add edges\n",
    "graph.add_edge(START, 'llm_qa')\n",
    "graph.add_edge('llm_qa', END)\n",
    "\n",
    "# compile\n",
    "workflow = graph.compile()"
   ]
  },
  {
   "cell_type": "code",
   "execution_count": 8,
   "id": "11542604",
   "metadata": {},
   "outputs": [
    {
     "name": "stdout",
     "output_type": "stream",
     "text": [
      "<think>\n",
      "Okay, so the user is asking how far the Moon is from Earth. Let me start by recalling what I know. I remember that the average distance is something like 384,400 kilometers. But wait, I should double-check that. Maybe it's a bit different when they say average distance.\n",
      "\n",
      "Hmm, I think the Moon's orbit isn't a perfect circle, so the distance varies. There's a point called perigee where the Moon is closest and apogee where it's farthest. Let me try to remember the numbers. Perigee is around 363,000 km, and apogee is about 405,000 km. So the average would be somewhere in between, which would be 384,400 km. That sounds right.\n",
      "\n",
      "Wait, I should verify if those numbers are correct. I might have confused them with something else. Let me think. The average distance is often cited as 384,400 kilometers, which is approximately 238,900 miles. Yeah, that's a commonly accepted figure. But maybe the exact number is a little different. Let me see if I can recall any more precise data. For example, NASA's fact sheet on the Moon mentions an average distance of 384,400 km, with the perigee and apogee as I mentioned. So that's probably accurate.\n",
      "\n",
      "Also, the distance affects things like lunar eclipses and the Moon's apparent size in the sky. When the Moon is at perigee, it looks a bit bigger, which is why there's a \"supermoon\" effect. Conversely, at apogee, it's a \"micromoon.\" The difference in distance is about 12% in size and 30% in brightness compared to when it's at perigee. But the user just asked for the distance, so maybe I don't need to go into that unless they ask for more details.\n",
      "\n",
      "Another thing to consider is that the Moon is slowly moving away from Earth. I think the rate is about 3.8 centimeters per year. So the distance isn't constant over geological time scales, but for current purposes, the average distance is still 384,400 km. That's due to tidal forces between the Earth and Moon causing a transfer of angular momentum.\n",
      "\n",
      "I should also check if the user might be confused between kilometers and miles. Since the answer is requested in English, maybe I should provide both units. Wait, the user didn't specify, but the question is in English. Let me see if the original question was in a language that uses metric or if it's more of an international question. Probably safest to give both. So 384,400 km is approximately 238,900 miles. Let me confirm the conversion: 1 kilometer is 0.621371 miles. So 384,400 * 0.621371 ≈ 238,855 miles. That rounds to about 238,900 miles. Okay, that matches.\n",
      "\n",
      "So putting it all together, the average distance is about 384,400 kilometers or 238,900 miles. The closest is 363,300 km (225,700 mi) and farthest is 405,500 km (252,000 mi). I should present this information clearly, maybe start with the average, then mention the range. Also, note that the distance is increasing over time, but that's a minor point unless the user asks for it. Since the question is straightforward, keeping it concise with the average and the range should be sufficient.\n",
      "</think>\n",
      "\n",
      "The average distance from the Moon to Earth is approximately **384,400 kilometers (238,900 miles)**. However, this distance varies because the Moon's orbit is elliptical:\n",
      "\n",
      "- **Perigee (closest point):** About **363,300 kilometers (225,700 miles)**.  \n",
      "- **Apogee (farthest point):** About **405,500 kilometers (252,000 miles)**.  \n",
      "\n",
      "The Moon is slowly moving away from Earth at a rate of roughly **3.8 centimeters (1.5 inches) per year** due to tidal interactions. These variations in distance influence phenomena like supermoons (when the Moon is at perigee) and micromoons (at apogee).\n"
     ]
    }
   ],
   "source": [
    "# execute\n",
    "\n",
    "intial_state = {'question': 'How far is moon from the earth?'}\n",
    "\n",
    "final_state = workflow.invoke(intial_state)\n",
    "\n",
    "print(final_state['answer'])\n",
    "\n"
   ]
  },
  {
   "cell_type": "code",
   "execution_count": 9,
   "id": "9d1f9814",
   "metadata": {},
   "outputs": [
    {
     "data": {
      "text/plain": [
       "\"<think>\\nOkay, so I need to figure out how far the Moon is from the Earth. Let me start by recalling what I know. I think the distance is something like 238,855 miles, but I'm not entirely sure if that's the exact number or if it varies. Wait, I remember that the Moon's orbit isn't a perfect circle, so the distance might change. There's an average distance, right? Maybe around 384,400 kilometers? That sounds familiar. Let me check the units. Miles and kilometers, so maybe there are two different numbers depending on the unit system.\\n\\nAlso, I think the Moon is moving away from the Earth very slowly over time. Is that correct? Like, it's drifting away by a few centimeters each year due to tidal forces. But does that affect the current average distance? Probably not significantly over such a long time. The question is asking for how far the Moon is right now, so maybe the answer is an average. But I need to confirm if there's a standard figure used.\\n\\nAnother thing: when I've heard about the distance, sometimes it's referred to as about one light-second. Wait, light travels at about 299,792 kilometers per second. If the average distance is 384,400 km, then dividing that by the speed of light gives approximately 1.28 seconds. So maybe it's about 1.3 light-seconds away? Hmm, but maybe the question is just asking for the distance in kilometers or miles, not in light-seconds.\\n\\nI should also consider the different points in the Moon's orbit. The closest point is called perigee, and the farthest is apogee. The average distance is between those two extremes. Let me try to recall the exact numbers. Perigee is roughly 363,300 km, and apogee is about 405,500 km. So the average is around 384,400 km. Converting that to miles, since 1 kilometer is approximately 0.621371 miles, so 384,400 km * 0.621371 ≈ 238,855 miles. That matches the number I thought earlier. So the answer is probably that the average distance is about 384,400 km or 238,855 miles.\\n\\nBut wait, I should verify if there's an official or more precise figure. Maybe NASA or astronomical sources have a standard value. Let me think. The Moon's orbit is elliptical, so the distance does vary, but the average is indeed around 384,400 km. Also, the exact number can be given with more decimal places, but for general purposes, rounding to 384,400 km is acceptable. Converting that to miles, as above, gives 238,855 miles. \\n\\nI should also mention that the distance is increasing over time due to tidal acceleration, transferring angular momentum from Earth to the Moon's orbit, which is why the Moon is slowly moving away. But the current average is as stated. So putting it all together, the answer is that the Moon is on average about 384,400 kilometers or 238,855 miles from Earth.\\n</think>\\n\\nThe average distance from the Moon to the Earth is approximately **384,400 kilometers (238,855 miles)**. This is the mean distance over the Moon's elliptical orbit and accounts for variations due to its orbital eccentricity:\\n\\n- **Perigee (closest approach):** ~363,300 km (~225,700 miles)  \\n- **Apogee (farthest distance):** ~405,500 km (~252,000 miles)  \\n\\nThe Moon is gradually moving away from Earth at a rate of about **3.8 centimeters (1.5 inches) per year** due to tidal interactions. In terms of light travel time, the average distance is roughly **1.28 seconds**, as light travels at ~299,792 km/s. \\n\\nFor context, this distance is **about 30 times Earth’s diameter** and is commonly used in astronomy for scale comparisons.\""
      ]
     },
     "execution_count": 9,
     "metadata": {},
     "output_type": "execute_result"
    }
   ],
   "source": [
    "llm.invoke('How far is moon from the earth?').content"
   ]
  },
  {
   "cell_type": "code",
   "execution_count": null,
   "id": "7d170d7d",
   "metadata": {},
   "outputs": [],
   "source": []
  }
 ],
 "metadata": {
  "kernelspec": {
   "display_name": "langchainvenv",
   "language": "python",
   "name": "python3"
  },
  "language_info": {
   "codemirror_mode": {
    "name": "ipython",
    "version": 3
   },
   "file_extension": ".py",
   "mimetype": "text/x-python",
   "name": "python",
   "nbconvert_exporter": "python",
   "pygments_lexer": "ipython3",
   "version": "3.10.2"
  }
 },
 "nbformat": 4,
 "nbformat_minor": 5
}
