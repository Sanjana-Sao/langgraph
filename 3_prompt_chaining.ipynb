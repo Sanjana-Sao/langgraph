{
 "cells": [
  {
   "cell_type": "code",
   "execution_count": 3,
   "id": "1329fdae",
   "metadata": {},
   "outputs": [],
   "source": [
    "from langgraph.graph import StateGraph, START, END\n",
    "from langchain_openai import ChatOpenAI\n",
    "from typing import TypedDict\n",
    "from dotenv import load_dotenv\n",
    "import os"
   ]
  },
  {
   "cell_type": "code",
   "execution_count": 2,
   "id": "397806c4",
   "metadata": {},
   "outputs": [
    {
     "ename": "OpenAIError",
     "evalue": "The api_key client option must be set either by passing api_key to the client or by setting the OPENAI_API_KEY environment variable",
     "output_type": "error",
     "traceback": [
      "\u001b[1;31m---------------------------------------------------------------------------\u001b[0m",
      "\u001b[1;31mOpenAIError\u001b[0m                               Traceback (most recent call last)",
      "Cell \u001b[1;32mIn[2], line 3\u001b[0m\n\u001b[0;32m      1\u001b[0m load_dotenv()\n\u001b[1;32m----> 3\u001b[0m model \u001b[38;5;241m=\u001b[39m \u001b[43mChatOpenAI\u001b[49m\u001b[43m(\u001b[49m\u001b[43m)\u001b[49m\n",
      "File \u001b[1;32md:\\Langchain\\langgraph-tutorials\\langchainvenv\\lib\\site-packages\\langchain_core\\load\\serializable.py:130\u001b[0m, in \u001b[0;36mSerializable.__init__\u001b[1;34m(self, *args, **kwargs)\u001b[0m\n\u001b[0;32m    128\u001b[0m \u001b[38;5;28;01mdef\u001b[39;00m\u001b[38;5;250m \u001b[39m\u001b[38;5;21m__init__\u001b[39m(\u001b[38;5;28mself\u001b[39m, \u001b[38;5;241m*\u001b[39margs: Any, \u001b[38;5;241m*\u001b[39m\u001b[38;5;241m*\u001b[39mkwargs: Any) \u001b[38;5;241m-\u001b[39m\u001b[38;5;241m>\u001b[39m \u001b[38;5;28;01mNone\u001b[39;00m:\n\u001b[0;32m    129\u001b[0m \u001b[38;5;250m    \u001b[39m\u001b[38;5;124;03m\"\"\"\"\"\"\u001b[39;00m  \u001b[38;5;66;03m# noqa: D419\u001b[39;00m\n\u001b[1;32m--> 130\u001b[0m     \u001b[38;5;28msuper\u001b[39m()\u001b[38;5;241m.\u001b[39m\u001b[38;5;21m__init__\u001b[39m(\u001b[38;5;241m*\u001b[39margs, \u001b[38;5;241m*\u001b[39m\u001b[38;5;241m*\u001b[39mkwargs)\n",
      "    \u001b[1;31m[... skipping hidden 1 frame]\u001b[0m\n",
      "File \u001b[1;32md:\\Langchain\\langgraph-tutorials\\langchainvenv\\lib\\site-packages\\langchain_openai\\chat_models\\base.py:744\u001b[0m, in \u001b[0;36mBaseChatOpenAI.validate_environment\u001b[1;34m(self)\u001b[0m\n\u001b[0;32m    737\u001b[0m         \u001b[38;5;28mself\u001b[39m\u001b[38;5;241m.\u001b[39mhttp_client \u001b[38;5;241m=\u001b[39m httpx\u001b[38;5;241m.\u001b[39mClient(\n\u001b[0;32m    738\u001b[0m             proxy\u001b[38;5;241m=\u001b[39m\u001b[38;5;28mself\u001b[39m\u001b[38;5;241m.\u001b[39mopenai_proxy, verify\u001b[38;5;241m=\u001b[39mglobal_ssl_context\n\u001b[0;32m    739\u001b[0m         )\n\u001b[0;32m    740\u001b[0m     sync_specific \u001b[38;5;241m=\u001b[39m {\n\u001b[0;32m    741\u001b[0m         \u001b[38;5;124m\"\u001b[39m\u001b[38;5;124mhttp_client\u001b[39m\u001b[38;5;124m\"\u001b[39m: \u001b[38;5;28mself\u001b[39m\u001b[38;5;241m.\u001b[39mhttp_client\n\u001b[0;32m    742\u001b[0m         \u001b[38;5;129;01mor\u001b[39;00m _get_default_httpx_client(\u001b[38;5;28mself\u001b[39m\u001b[38;5;241m.\u001b[39mopenai_api_base, \u001b[38;5;28mself\u001b[39m\u001b[38;5;241m.\u001b[39mrequest_timeout)\n\u001b[0;32m    743\u001b[0m     }\n\u001b[1;32m--> 744\u001b[0m     \u001b[38;5;28mself\u001b[39m\u001b[38;5;241m.\u001b[39mroot_client \u001b[38;5;241m=\u001b[39m openai\u001b[38;5;241m.\u001b[39mOpenAI(\u001b[38;5;241m*\u001b[39m\u001b[38;5;241m*\u001b[39mclient_params, \u001b[38;5;241m*\u001b[39m\u001b[38;5;241m*\u001b[39msync_specific)  \u001b[38;5;66;03m# type: ignore[arg-type]\u001b[39;00m\n\u001b[0;32m    745\u001b[0m     \u001b[38;5;28mself\u001b[39m\u001b[38;5;241m.\u001b[39mclient \u001b[38;5;241m=\u001b[39m \u001b[38;5;28mself\u001b[39m\u001b[38;5;241m.\u001b[39mroot_client\u001b[38;5;241m.\u001b[39mchat\u001b[38;5;241m.\u001b[39mcompletions\n\u001b[0;32m    746\u001b[0m \u001b[38;5;28;01mif\u001b[39;00m \u001b[38;5;129;01mnot\u001b[39;00m \u001b[38;5;28mself\u001b[39m\u001b[38;5;241m.\u001b[39masync_client:\n",
      "File \u001b[1;32md:\\Langchain\\langgraph-tutorials\\langchainvenv\\lib\\site-packages\\openai\\_client.py:130\u001b[0m, in \u001b[0;36mOpenAI.__init__\u001b[1;34m(self, api_key, organization, project, webhook_secret, base_url, websocket_base_url, timeout, max_retries, default_headers, default_query, http_client, _strict_response_validation)\u001b[0m\n\u001b[0;32m    128\u001b[0m     api_key \u001b[38;5;241m=\u001b[39m os\u001b[38;5;241m.\u001b[39menviron\u001b[38;5;241m.\u001b[39mget(\u001b[38;5;124m\"\u001b[39m\u001b[38;5;124mOPENAI_API_KEY\u001b[39m\u001b[38;5;124m\"\u001b[39m)\n\u001b[0;32m    129\u001b[0m \u001b[38;5;28;01mif\u001b[39;00m api_key \u001b[38;5;129;01mis\u001b[39;00m \u001b[38;5;28;01mNone\u001b[39;00m:\n\u001b[1;32m--> 130\u001b[0m     \u001b[38;5;28;01mraise\u001b[39;00m OpenAIError(\n\u001b[0;32m    131\u001b[0m         \u001b[38;5;124m\"\u001b[39m\u001b[38;5;124mThe api_key client option must be set either by passing api_key to the client or by setting the OPENAI_API_KEY environment variable\u001b[39m\u001b[38;5;124m\"\u001b[39m\n\u001b[0;32m    132\u001b[0m     )\n\u001b[0;32m    133\u001b[0m \u001b[38;5;28mself\u001b[39m\u001b[38;5;241m.\u001b[39mapi_key \u001b[38;5;241m=\u001b[39m api_key\n\u001b[0;32m    135\u001b[0m \u001b[38;5;28;01mif\u001b[39;00m organization \u001b[38;5;129;01mis\u001b[39;00m \u001b[38;5;28;01mNone\u001b[39;00m:\n",
      "\u001b[1;31mOpenAIError\u001b[0m: The api_key client option must be set either by passing api_key to the client or by setting the OPENAI_API_KEY environment variable"
     ]
    }
   ],
   "source": [
    "load_dotenv()\n",
    "\n",
    "model = ChatOpenAI()"
   ]
  },
  {
   "cell_type": "code",
   "execution_count": 4,
   "id": "75e0d6cd",
   "metadata": {},
   "outputs": [],
   "source": [
    "os.environ[\"GROQ_API_KEY\"] =  os.getenv(\"groq\")\n"
   ]
  },
  {
   "cell_type": "code",
   "execution_count": 11,
   "id": "01dd6d69",
   "metadata": {},
   "outputs": [],
   "source": [
    "from langchain_groq import ChatGroq\n",
    "\n",
    "model = ChatGroq(\n",
    "    model=\"qwen/qwen3-32b\")"
   ]
  },
  {
   "cell_type": "code",
   "execution_count": 6,
   "id": "75ae1707",
   "metadata": {},
   "outputs": [],
   "source": [
    "class BlogState(TypedDict):\n",
    "\n",
    "    title: str\n",
    "    outline: str\n",
    "    content: str"
   ]
  },
  {
   "cell_type": "code",
   "execution_count": 7,
   "id": "4ef1f024",
   "metadata": {},
   "outputs": [],
   "source": [
    "def create_outline(state: BlogState) -> BlogState:\n",
    "\n",
    "    # fetch title\n",
    "    title = state['title']\n",
    "\n",
    "    # call llm gen outline\n",
    "    prompt = f'Generate a detailed outline for a blog on the topic - {title}'\n",
    "    outline = model.invoke(prompt).content\n",
    "\n",
    "    # update state\n",
    "    state['outline'] = outline\n",
    "\n",
    "    return state"
   ]
  },
  {
   "cell_type": "code",
   "execution_count": 8,
   "id": "7bab2346",
   "metadata": {},
   "outputs": [],
   "source": [
    "def create_blog(state: BlogState) -> BlogState:\n",
    "\n",
    "    title = state['title']\n",
    "    outline = state['outline']\n",
    "\n",
    "    prompt = f'Write a detailed blog on the title - {title} using the follwing outline \\n {outline}'\n",
    "\n",
    "    content = model.invoke(prompt).content\n",
    "\n",
    "    state['content'] = content\n",
    "\n",
    "    return state"
   ]
  },
  {
   "cell_type": "code",
   "execution_count": 9,
   "id": "d49ba7c9",
   "metadata": {},
   "outputs": [],
   "source": [
    "graph = StateGraph(BlogState)\n",
    "\n",
    "# nodes\n",
    "graph.add_node('create_outline', create_outline)\n",
    "graph.add_node('create_blog', create_blog)\n",
    "\n",
    "# edges\n",
    "graph.add_edge(START, 'create_outline')\n",
    "graph.add_edge('create_outline', 'create_blog')\n",
    "graph.add_edge('create_blog', END)\n",
    "\n",
    "workflow = graph.compile()\n"
   ]
  },
  {
   "cell_type": "code",
   "execution_count": 12,
   "id": "e724fda0",
   "metadata": {},
   "outputs": [
    {
     "name": "stdout",
     "output_type": "stream",
     "text": [
      "{'title': 'Rise of AI in India', 'outline': \"<think>\\nOkay, I need to create a detailed blog outline about the rise of AI in India. Let me start by breaking down the main areas to cover. First, an introduction to AI in the global context and then focus on India specifically. Maybe I should define AI and explain why it's important now. Then, I should look at the growth in India—government initiatives, investments, startups, universities, etc. Also, mention key industries where AI is making an impact, like healthcare, agriculture, or finance. Don't forget challenges like data privacy, talent shortage, ethical issues. Also, future prospects and case studies of successful AI implementations in India. Wait, the user wants a detailed outline, so each section should have subsections. Let me structure it step by step.\\n\\n1. Introduction: Define AI, mention global trends, transition to India's context.\\n2. Historical Context: Early developments in India, maybe mention when AI started gaining traction here.\\n3. Government Role: Policies, initiatives like Digital India, National Strategy for AI, funding bodies like NITI Aayog.\\n4. Industry Adoption: Different sectors adopting AI—healthcare, agriculture, finance, etc. Examples of companies using AI.\\n5. AI Ecosystem: Startups, research institutions, collaborations between academia and industry.\\n6. Challenges and Ethical Considerations: Data privacy laws, talent gap, ethical AI use.\\n7. Future Outlook: Predictions for growth, potential new applications, how India can lead globally.\\n8. Case Studies: Specific examples of AI success in India.\\n9. Conclusion: Summarize key points, final thoughts on AI's impact on India's future.\\n\\nWait, should historical context be a separate section? Maybe under the rise of AI in India, first talk about the early days, then current growth. Also, need to include key players—like TCS, Wipro, startups like Happiest Minds, or academic institutions like IITs. Also, mention AI research labs. For challenges, maybe include infrastructure issues, lack of standardized regulations. Maybe split the government's role into policies and funding. Also, think about education—how AI is being integrated into academic curriculums. Oh, and public sector projects like Smart Cities using AI. Also, social impact—AI for rural development, e-governance. Need to make sure each section flows into the next. Let me check if I missed any important aspects. Maybe international collaborations? Like partnerships with other countries in AI research. Also, mention AI in combating challenges like pandemics or climate change in India. Okay, that should cover the main points. Now organize all these thoughts into a structured outline with headings and subheadings.\\n</think>\\n\\n**Detailed Blog Outline: The Rise of AI in India**\\n\\n---\\n\\n### **1. Introduction: The Global and Indian Context of AI**\\n   - **1.1 Definition of Artificial Intelligence (AI)**  \\n     - Brief explanation of AI, its subsets (machine learning, NLP, computer vision), and its transformative potential.  \\n   - **1.2 Global AI Trends**  \\n     - Mention AI's role in global economies (e.g., U.S., China, EU).  \\n   - **1.3 Why India is a Focal Point**  \\n     - India’s unique position due to its tech-savvy population, digital infrastructure, and growing innovation ecosystem.  \\n\\n---\\n\\n### **2. Historical Context: The Evolution of AI in India**  \\n   - **2.1 Early Developments**  \\n     - Tracing AI research in India from the 1980s–2000s (e.g., academic projects, basic automation).  \\n   - **2.2 The Digital India Catalyst**  \\n     - How the 2015 *Digital India* initiative accelerated AI adoption by promoting digital infrastructure.  \\n   - **2.3 Key Milestones**  \\n     - Highlights: Launch of the **National Strategy for AI** (2018), establishment of AI research labs, and the rise of AI-focused startups.  \\n\\n---\\n\\n### **3. Government Initiatives and Policies**  \\n   - **3.1 Strategic Frameworks**  \\n     - **National Strategy for AI** (NITI Aayog): Five pillars (healthcare, agriculture, education, smart cities, and financial inclusion).  \\n   - **3.2 Funding and Innovation Hubs**  \\n     - Role of institutions like **NITI Aayog**, **MeITY** (Ministry of Electronics & IT), and programs like **Atal Innovation Mission**.  \\n   - **3.3 Public Sector Projects**  \\n     - AI-driven initiatives: **Smart Cities**, **e-Governance**, and **AI for Social Empowerment** (AI-SEM).  \\n\\n---\\n\\n### **4. Industry Adoption: AI in Key Sectors**  \\n   - **4.1 Healthcare**  \\n     - AI in diagnostics (e.g., *Niramai* for cancer detection), telemedicine, and drug discovery.  \\n   - **4.2 Agriculture**  \\n     - Precision farming, crop yield prediction (e.g., *CropIn*), and supply chain optimization.  \\n   - **4.3 Finance**  \\n     - Fraud detection, robo-advisors, and financial inclusion via AI (e.g., *Policybazaar*).  \\n   - **4.4 Education**  \\n     - Personalized learning platforms and AI-driven language translation for multilingual education.  \\n   - **4.5 Other Sectors**  \\n     - Retail, logistics, and cybersecurity (e.g., *Policybazaar*, *Uniphore*).  \\n\\n---\\n\\n### **5. The AI Ecosystem in India**  \\n   - **5.1 Startups and Entrepreneurs**  \\n     - Growth of AI startups (e.g., *Happiest Minds*, *Vahan*), funding trends, and incubators like **T-Hub** and **Startup India**.  \\n   - **5.2 Academia and Research**  \\n     - Contributions from IITs, IISc, and AI research labs (e.g., **Microsoft Research India**, **Google Research India**).  \\n   - **5.3 Corporate Giants**  \\n     - Role of IT majors like **TCS**, **Wipro**, and **Infosys** in AI product development and global AI services.  \\n   - **5.4 Talent Pipeline**  \\n     - Upskilling programs, online learning platforms, and AI certification courses.  \\n\\n---\\n\\n### **6. Challenges and Ethical Considerations**  \\n   - **6.1 Data Privacy and Security**  \\n     - Issues with data governance and compliance (e.g., **Personal Data Protection Bill**).  \\n   - **6.2 Talent Shortage**  \\n     - Skills gap in AI/ML and the need for specialized training.  \\n   - **6.3 Ethical AI**  \\n     - Bias in algorithms, transparency, and accountability in public/private AI deployments.  \\n   - **6.4 Infrastructure Gaps**  \\n     - Access to high-quality datasets and computational resources in rural areas.  \\n\\n---\\n\\n### **7. Future Outlook: India’s Global AI Ambitions**  \\n   - **7.1 Predictions for 2030**  \\n     - AI’s projected contribution to India’s GDP ($1 trillion by 2035, per NITI Aayog).  \\n   - **7.2 Emerging Opportunities**  \\n     - AI in climate change mitigation, rural development, and space technology (e.g., **ISRO’s AI applications**).  \\n   - **7.3 India as a Global AI Leader**  \\n     - Potential to rival China/U.S. through innovation, collaboration, and ethical frameworks.  \\n\\n---\\n\\n### **8. Case Studies: Success Stories**  \\n   - **8.1 Healthcare**  \\n     - *Niramai*’s thermal imaging for breast cancer detection.  \\n   - **8.2 Agriculture**  \\n     - *AgNext*’s AI-powered farm advisory system.  \\n   - **8.3 Social Impact**  \\n     - *Project SaCo* (AI for early detection of retinal diseases) by IIT Bombay.  \\n\\n---\\n\\n### **9. Conclusion: Shaping India’s AI Future**  \\n   - Recap of India’s progress in AI: From early experiments to a thriving ecosystem.  \\n   - Call to action for stakeholders (government, corporates, academia) to address challenges collaboratively.  \\n   - Final thoughts: AI as a driver for *inclusive growth* and *Atmanirbhar Bharat* (self-reliant India).  \\n\\n---\\n\\n### **Optional Add-ons**  \\n   - **Glossary**: Simplify AI jargon for non-technical readers.  \\n   - **Infographics**: Visuals on AI adoption trends or funding data.  \\n   - **Resources**: Links to open-source AI tools, government reports, and courses.  \\n\\nThis outline balances depth with readability, ensuring a comprehensive yet engaging narrative on India’s AI journey.\", 'content': \"<think>\\nOkay, I need to write a detailed blog on the rise of AI in India using the provided outline. Let me start by breaking down each section to ensure I cover all points effectively. \\n\\n**Introduction**  \\nI should start by defining AI briefly and then transition into its global significance. Then, focus on India's unique position. I need to highlight why India is important in the AI context—maybe mention the digital infrastructure and tech talent pool. \\n\\n**Historical Context**  \\nHere, I need to outline the early history of AI in India. Maybe mention early research initiatives in the 80s-90s and how the Digital India campaign in 2015 accelerated things. I should note key milestones like the National Strategy for AI in 2018 and the establishment of AI research labs. \\n\\n**Government Initiatives**  \\nThis section requires a deeper look into policies. The National Strategy for AI by NITI Aayog is crucial. I should explain the five pillars: healthcare, agriculture, education, smart cities, and financial inclusion. Also, mention funding bodies like NITI Aayog and MeITY. Public sector projects like Smart Cities and e-Governance should be highlighted, perhaps with specific examples.\\n\\n**Industry Adoption**  \\nBreaking down sectors is important here. For healthcare, I can talk about startups like Niramai using AI for cancer detection. Agriculture could include CropIn for crop yield prediction. Finance might involve Policybazaar for fraud detection. Education could mention personalized learning platforms. I need to ensure each sub-section has a real-world example to illustrate the point.\\n\\n**AI Ecosystem**  \\nStartups and entrepreneurs are a big part of India's AI growth. Mentioning Happiest Minds and Vahan, along with incubators like T-Hub, will add credibility. Academia's role is crucial too—highlight IITs and research labs like Microsoft Research India. Corporate giants like TCS and Wipro are key players in AI product development. Also, discuss the talent pipeline through upskilling programs and online courses.\\n\\n**Challenges and Ethical Considerations**  \\nData privacy is a major issue. The Personal Data Protection Bill should be mentioned here. Talent shortage is another challenge; maybe discuss the gap between demand and skilled professionals. Ethical issues like algorithmic bias and transparency need examples, perhaps from public or private sector AI implementations. Infrastructure gaps in rural areas can be tied to access to datasets and computational resources.\\n\\n**Future Outlook**  \\nHere, I need to project India's potential. NITI Aayog's prediction of $1 trillion GDP contribution by 2035 is a strong point. Emerging opportunities could include climate change solutions and rural development. Positioning India as a global leader by addressing ethical frameworks and collaboration is key. \\n\\n**Case Studies**  \\nIncluding successful examples like Niramai, AgNext, and Project SaCo will make the blog tangible. Each case study should explain the problem, the AI solution, and the impact. \\n\\n**Conclusion**  \\nSummarize the key points: growth, challenges, future potential. Emphasize the need for collaboration and the role of AI in inclusive growth. Tie it back to Atmanirbhar Bharat to align with national goals.\\n\\nI need to ensure each section flows logically, with transitions that connect the historical context to current growth and future prospects. Including specific examples and data points will add credibility. Also, maintaining a balance between technical details and readability for a general audience is important. Let me check if I've covered all the sub-sections in the outline and if there are any gaps. For instance, in the government section, I should mention funding programs like Atal Innovation Mission. In the ecosystem section, maybe add more about international collaborations if needed. Also, ensure that each challenge is tied to a real-world example, like how data privacy issues affect e-Governance projects. Alright, this structure should work. Time to flesh out each section with the necessary details and examples.\\n</think>\\n\\n**The Rise of AI in India: A Transformative Journey**\\n\\n---\\n\\n### **1. Introduction: The Global and Indian Context of AI**  \\nArtificial Intelligence (AI), the simulation of human intelligence by machines, has emerged as a cornerstone of technological innovation. From autonomous vehicles to predictive analytics, AI is reshaping economies worldwide. In this context, India stands out as a pivotal player, leveraging its robust digital infrastructure and a burgeoning talent pool to drive AI adoption. With over 600 million internet users and a $200 billion digital economy, India is poised to harness AI for both economic growth and social inclusion.\\n\\n---\\n\\n### **2. Historical Context: The Evolution of AI in India**  \\nIndia’s AI journey began in the 1980s with academic research in pattern recognition and robotics. However, the real catalyst came with the **Digital India** initiative in 2015, which prioritized digital infrastructure and connectivity. By 2018, the **National Strategy for AI** (NITI Aayog) was launched, setting the stage for systematic AI development. Key milestones include:\\n- **1980s–1990s**: Early AI projects at IITs and CSIR labs.\\n- **2015**: *Digital India* laid the groundwork for AI adoption.\\n- **2018**: NITI Aayog’s five-pillar strategy (healthcare, agriculture, education, smart cities, financial inclusion) outlined a roadmap for AI-driven progress.\\n\\n---\\n\\n### **3. Government Initiatives and Policies**  \\nIndia’s government has been proactive in fostering AI growth through strategic policies:\\n- **National Strategy for AI**: Focuses on leveraging AI for societal benefits, such as rural healthcare and smart cities.\\n- **Funding and Innovation Hubs**: \\n  - **Atal Innovation Mission** funds startups.\\n  - **NITI Aayog** collaborates with academia and industry to promote AI research.\\n- **Public Sector Projects**:\\n  - **Smart Cities Mission**: Uses AI for traffic management and energy optimization.\\n  - **e-Governance**: AI-powered chatbots like *MyGov* streamline public services.\\n\\n---\\n\\n### **4. Industry Adoption: AI in Key Sectors**  \\nAI is revolutionizing India’s industries:\\n- **Healthcare**: \\n  - *Niramai* detects breast cancer using thermal imaging.\\n  - AI-driven diagnostics reduce diagnostic delays in rural areas.\\n- **Agriculture**: \\n  - *CropIn* predicts crop yields and advises farmers via mobile apps.\\n  - Drone-based monitoring optimizes irrigation.\\n- **Finance**: \\n  - *Policybazaar* uses AI for personalized insurance recommendations.\\n  - Fraud detection systems by banks like HDFC and ICICI.\\n- **Education**: \\n  - Platforms like BYJU’s employ AI for adaptive learning.\\n  - AI-powered language translation tools bridge linguistic gaps.\\n\\n---\\n\\n### **5. The AI Ecosystem in India**  \\nIndia’s AI ecosystem thrives on collaboration between startups, academia, and corporates:\\n- **Startups and Entrepreneurs**:\\n  - *Happiest Minds* offers AI solutions for enterprises.\\n  - *Vahan* uses AI for credit scoring in the automobile sector.\\n- **Academia and Research**:\\n  - IITs and IISc collaborate with global giants like Google and Microsoft.\\n  - Research labs like **Microsoft Research India** pioneer AI in healthcare and agriculture.\\n- **Corporate Giants**:\\n  - TCS and Wipro integrate AI into global IT services.\\n  - Infosys partners with startups to develop AI-driven products.\\n- **Talent Pipeline**:\\n  - Online courses on Coursera and NPTEL upskill professionals.\\n  - Certifications from IITs in AI/ML address the skills gap.\\n\\n---\\n\\n### **6. Challenges and Ethical Considerations**  \\nDespite its momentum, India faces hurdles:\\n- **Data Privacy**: The *Personal Data Protection Bill* (2019) aims to regulate data usage but faces implementation challenges.\\n- **Talent Shortage**: Only 10% of Indian IT professionals are AI-literate, per a Nasscom report.\\n- **Ethical AI**: Biased algorithms in loan approvals or hiring necessitate transparency.\\n- **Infrastructure Gaps**: Rural areas lack access to high-speed internet and computational resources.\\n\\n---\\n\\n### **7. Future Outlook: India’s Global AI Ambitions**  \\nIndia aims to become a global AI leader by 2030:\\n- **Economic Impact**: NITI Aayog projects AI to contribute $1 trillion to India’s GDP by 2035.\\n- **Emerging Opportunities**:\\n  - **Climate Tech**: AI for weather prediction and renewable energy optimization.\\n  - **Rural Development**: AI-powered microfinance and agricultural advisory systems.\\n- **Global Leadership**: India’s ethical AI frameworks could set benchmarks for developing nations.\\n\\n---\\n\\n### **8. Case Studies: Success Stories**  \\n- **Healthcare**: *Niramai*’s thermal imaging detects breast cancer without radiation, serving 500,000 women.\\n- **Agriculture**: *AgNext* uses AI to advise farmers on pest control, boosting yields by 30%.\\n- **Social Impact**: *Project SaCo* by IIT Bombay employs AI for early detection of retinal diseases, aiding rural populations.\\n\\n---\\n\\n### **9. Conclusion: Shaping India’s AI Future**  \\nIndia’s AI journey reflects a blend of innovation and inclusivity. While challenges like data privacy and talent gaps persist, the ecosystem’s resilience and government support offer optimism. By fostering collaboration among stakeholders, India can harness AI to achieve *Atmanirbhar Bharat*—a self-reliant, inclusive, and technologically empowered nation. The future of AI in India is not just about growth but about transforming lives, one algorithm at a time.\\n\\n---\\n\\n**Optional Add-ons**  \\n- **Glossary**: Terms like NLP, ML, and NITI Aayog explained.\\n- **Infographics**: Visuals on AI growth stats and funding trends.\\n- **Resources**: Links to AI courses by IITs and NITI Aayog reports.\\n\\nThis blog balances technical insights with real-world examples, making the rise of AI in India accessible and inspiring for readers.\"}\n"
     ]
    }
   ],
   "source": [
    "intial_state = {'title': 'Rise of AI in India'}\n",
    "\n",
    "final_state = workflow.invoke(intial_state)\n",
    "\n",
    "print(final_state)"
   ]
  },
  {
   "cell_type": "code",
   "execution_count": 13,
   "id": "bdd8eb97",
   "metadata": {},
   "outputs": [
    {
     "name": "stdout",
     "output_type": "stream",
     "text": [
      "<think>\n",
      "Okay, I need to create a detailed blog outline about the rise of AI in India. Let me start by breaking down the main areas to cover. First, an introduction to AI in the global context and then focus on India specifically. Maybe I should define AI and explain why it's important now. Then, I should look at the growth in India—government initiatives, investments, startups, universities, etc. Also, mention key industries where AI is making an impact, like healthcare, agriculture, or finance. Don't forget challenges like data privacy, talent shortage, ethical issues. Also, future prospects and case studies of successful AI implementations in India. Wait, the user wants a detailed outline, so each section should have subsections. Let me structure it step by step.\n",
      "\n",
      "1. Introduction: Define AI, mention global trends, transition to India's context.\n",
      "2. Historical Context: Early developments in India, maybe mention when AI started gaining traction here.\n",
      "3. Government Role: Policies, initiatives like Digital India, National Strategy for AI, funding bodies like NITI Aayog.\n",
      "4. Industry Adoption: Different sectors adopting AI—healthcare, agriculture, finance, etc. Examples of companies using AI.\n",
      "5. AI Ecosystem: Startups, research institutions, collaborations between academia and industry.\n",
      "6. Challenges and Ethical Considerations: Data privacy laws, talent gap, ethical AI use.\n",
      "7. Future Outlook: Predictions for growth, potential new applications, how India can lead globally.\n",
      "8. Case Studies: Specific examples of AI success in India.\n",
      "9. Conclusion: Summarize key points, final thoughts on AI's impact on India's future.\n",
      "\n",
      "Wait, should historical context be a separate section? Maybe under the rise of AI in India, first talk about the early days, then current growth. Also, need to include key players—like TCS, Wipro, startups like Happiest Minds, or academic institutions like IITs. Also, mention AI research labs. For challenges, maybe include infrastructure issues, lack of standardized regulations. Maybe split the government's role into policies and funding. Also, think about education—how AI is being integrated into academic curriculums. Oh, and public sector projects like Smart Cities using AI. Also, social impact—AI for rural development, e-governance. Need to make sure each section flows into the next. Let me check if I missed any important aspects. Maybe international collaborations? Like partnerships with other countries in AI research. Also, mention AI in combating challenges like pandemics or climate change in India. Okay, that should cover the main points. Now organize all these thoughts into a structured outline with headings and subheadings.\n",
      "</think>\n",
      "\n",
      "**Detailed Blog Outline: The Rise of AI in India**\n",
      "\n",
      "---\n",
      "\n",
      "### **1. Introduction: The Global and Indian Context of AI**\n",
      "   - **1.1 Definition of Artificial Intelligence (AI)**  \n",
      "     - Brief explanation of AI, its subsets (machine learning, NLP, computer vision), and its transformative potential.  \n",
      "   - **1.2 Global AI Trends**  \n",
      "     - Mention AI's role in global economies (e.g., U.S., China, EU).  \n",
      "   - **1.3 Why India is a Focal Point**  \n",
      "     - India’s unique position due to its tech-savvy population, digital infrastructure, and growing innovation ecosystem.  \n",
      "\n",
      "---\n",
      "\n",
      "### **2. Historical Context: The Evolution of AI in India**  \n",
      "   - **2.1 Early Developments**  \n",
      "     - Tracing AI research in India from the 1980s–2000s (e.g., academic projects, basic automation).  \n",
      "   - **2.2 The Digital India Catalyst**  \n",
      "     - How the 2015 *Digital India* initiative accelerated AI adoption by promoting digital infrastructure.  \n",
      "   - **2.3 Key Milestones**  \n",
      "     - Highlights: Launch of the **National Strategy for AI** (2018), establishment of AI research labs, and the rise of AI-focused startups.  \n",
      "\n",
      "---\n",
      "\n",
      "### **3. Government Initiatives and Policies**  \n",
      "   - **3.1 Strategic Frameworks**  \n",
      "     - **National Strategy for AI** (NITI Aayog): Five pillars (healthcare, agriculture, education, smart cities, and financial inclusion).  \n",
      "   - **3.2 Funding and Innovation Hubs**  \n",
      "     - Role of institutions like **NITI Aayog**, **MeITY** (Ministry of Electronics & IT), and programs like **Atal Innovation Mission**.  \n",
      "   - **3.3 Public Sector Projects**  \n",
      "     - AI-driven initiatives: **Smart Cities**, **e-Governance**, and **AI for Social Empowerment** (AI-SEM).  \n",
      "\n",
      "---\n",
      "\n",
      "### **4. Industry Adoption: AI in Key Sectors**  \n",
      "   - **4.1 Healthcare**  \n",
      "     - AI in diagnostics (e.g., *Niramai* for cancer detection), telemedicine, and drug discovery.  \n",
      "   - **4.2 Agriculture**  \n",
      "     - Precision farming, crop yield prediction (e.g., *CropIn*), and supply chain optimization.  \n",
      "   - **4.3 Finance**  \n",
      "     - Fraud detection, robo-advisors, and financial inclusion via AI (e.g., *Policybazaar*).  \n",
      "   - **4.4 Education**  \n",
      "     - Personalized learning platforms and AI-driven language translation for multilingual education.  \n",
      "   - **4.5 Other Sectors**  \n",
      "     - Retail, logistics, and cybersecurity (e.g., *Policybazaar*, *Uniphore*).  \n",
      "\n",
      "---\n",
      "\n",
      "### **5. The AI Ecosystem in India**  \n",
      "   - **5.1 Startups and Entrepreneurs**  \n",
      "     - Growth of AI startups (e.g., *Happiest Minds*, *Vahan*), funding trends, and incubators like **T-Hub** and **Startup India**.  \n",
      "   - **5.2 Academia and Research**  \n",
      "     - Contributions from IITs, IISc, and AI research labs (e.g., **Microsoft Research India**, **Google Research India**).  \n",
      "   - **5.3 Corporate Giants**  \n",
      "     - Role of IT majors like **TCS**, **Wipro**, and **Infosys** in AI product development and global AI services.  \n",
      "   - **5.4 Talent Pipeline**  \n",
      "     - Upskilling programs, online learning platforms, and AI certification courses.  \n",
      "\n",
      "---\n",
      "\n",
      "### **6. Challenges and Ethical Considerations**  \n",
      "   - **6.1 Data Privacy and Security**  \n",
      "     - Issues with data governance and compliance (e.g., **Personal Data Protection Bill**).  \n",
      "   - **6.2 Talent Shortage**  \n",
      "     - Skills gap in AI/ML and the need for specialized training.  \n",
      "   - **6.3 Ethical AI**  \n",
      "     - Bias in algorithms, transparency, and accountability in public/private AI deployments.  \n",
      "   - **6.4 Infrastructure Gaps**  \n",
      "     - Access to high-quality datasets and computational resources in rural areas.  \n",
      "\n",
      "---\n",
      "\n",
      "### **7. Future Outlook: India’s Global AI Ambitions**  \n",
      "   - **7.1 Predictions for 2030**  \n",
      "     - AI’s projected contribution to India’s GDP ($1 trillion by 2035, per NITI Aayog).  \n",
      "   - **7.2 Emerging Opportunities**  \n",
      "     - AI in climate change mitigation, rural development, and space technology (e.g., **ISRO’s AI applications**).  \n",
      "   - **7.3 India as a Global AI Leader**  \n",
      "     - Potential to rival China/U.S. through innovation, collaboration, and ethical frameworks.  \n",
      "\n",
      "---\n",
      "\n",
      "### **8. Case Studies: Success Stories**  \n",
      "   - **8.1 Healthcare**  \n",
      "     - *Niramai*’s thermal imaging for breast cancer detection.  \n",
      "   - **8.2 Agriculture**  \n",
      "     - *AgNext*’s AI-powered farm advisory system.  \n",
      "   - **8.3 Social Impact**  \n",
      "     - *Project SaCo* (AI for early detection of retinal diseases) by IIT Bombay.  \n",
      "\n",
      "---\n",
      "\n",
      "### **9. Conclusion: Shaping India’s AI Future**  \n",
      "   - Recap of India’s progress in AI: From early experiments to a thriving ecosystem.  \n",
      "   - Call to action for stakeholders (government, corporates, academia) to address challenges collaboratively.  \n",
      "   - Final thoughts: AI as a driver for *inclusive growth* and *Atmanirbhar Bharat* (self-reliant India).  \n",
      "\n",
      "---\n",
      "\n",
      "### **Optional Add-ons**  \n",
      "   - **Glossary**: Simplify AI jargon for non-technical readers.  \n",
      "   - **Infographics**: Visuals on AI adoption trends or funding data.  \n",
      "   - **Resources**: Links to open-source AI tools, government reports, and courses.  \n",
      "\n",
      "This outline balances depth with readability, ensuring a comprehensive yet engaging narrative on India’s AI journey.\n"
     ]
    }
   ],
   "source": [
    "print(final_state['outline'])"
   ]
  },
  {
   "cell_type": "code",
   "execution_count": 10,
   "id": "e38569eb",
   "metadata": {},
   "outputs": [
    {
     "name": "stdout",
     "output_type": "stream",
     "text": [
      "I. Introduction\n",
      "\n",
      "A. Artificial Intelligence (AI) is a branch of computer science that aims to create intelligent machines that can perform tasks that typically require human intelligence. These tasks can include speech recognition, decision-making, visual perception, and more. \n",
      "\n",
      "B. The field of AI has been steadily growing in India over the past few years, with advancements being made in various industries such as healthcare, finance, education, and more. \n",
      "\n",
      "C. The purpose of this blog is to explore the rise of AI in India and its implications on the economy, job market, society, and culture.\n",
      "\n",
      "II. Historical Context of AI in India\n",
      "\n",
      "A. India has a rich history in AI research, with institutions like the Indian Institute of Technology (IIT) and the Indian Statistical Institute (ISI) making significant contributions to the field. \n",
      "\n",
      "B. The Indian government has also taken steps to promote AI development in the country, with initiatives like the National AI Portal and the National Mission on Interdisciplinary Cyber-Physical Systems (NM-ICPS). \n",
      "\n",
      "C. The rise of AI startups in India has also been a key factor in driving innovation in the field, with companies like Flipkart, Zomato, and Ola using AI to improve their services.\n",
      "\n",
      "III. Current State of AI in India\n",
      "\n",
      "A. Major industries in India are leveraging AI technology to improve efficiency, reduce costs, and enhance customer experience. Industries like healthcare, fintech, and e-commerce are leading the way in AI adoption. \n",
      "\n",
      "B. Indian companies like Wipro, Infosys, and Tata Consultancy Services (TCS) are at the forefront of AI innovation, developing cutting-edge solutions for clients both in India and globally.\n",
      "\n",
      "C. The impact of AI on the Indian economy and job market has been significant, with AI creating new job opportunities in fields like data science, machine learning, and AI development.\n",
      "\n",
      "IV. Challenges and Opportunities\n",
      "\n",
      "A. Challenges faced by AI adoption in India include issues like data privacy, security concerns, and a lack of skilled professionals in the field. \n",
      "\n",
      "B. However, there are also many opportunities for growth and development in the AI sector, with the potential to create new revenue streams, improve efficiency, and drive innovation in various industries. \n",
      "\n",
      "C. The importance of AI education and skill development in India cannot be overstated, as a trained workforce is essential for the successful implementation of AI technologies.\n",
      "\n",
      "V. Future Outlook\n",
      "\n",
      "A. Predictions for the future of AI in India include continued growth in AI adoption across industries, with AI becoming an integral part of business operations in the country. \n",
      "\n",
      "B. Potential areas of growth and innovation in AI include the development of autonomous vehicles, AI-driven healthcare solutions, and personalized customer experiences.\n",
      "\n",
      "C. The implications of AI on society and culture in India are vast, with AI technology potentially changing the way we live, work, and interact with each other.\n",
      "\n",
      "VI. Conclusion\n",
      "\n",
      "A. In conclusion, the rise of AI in India presents both challenges and opportunities for the country, with the potential to drive economic growth, create new job opportunities, and improve the lives of citizens.\n",
      "\n",
      "B. It is important for readers to stay updated on AI developments in India and to continue learning about the field to fully understand its impact on society and the economy.\n",
      "\n",
      "C. As AI continues to evolve and grow in India, it is crucial for the country to embrace this technology and leverage its potential for the benefit of all.\n"
     ]
    }
   ],
   "source": [
    "print(final_state['content'])"
   ]
  },
  {
   "cell_type": "code",
   "execution_count": null,
   "id": "ca21b153",
   "metadata": {},
   "outputs": [],
   "source": []
  }
 ],
 "metadata": {
  "kernelspec": {
   "display_name": "langchainvenv",
   "language": "python",
   "name": "python3"
  },
  "language_info": {
   "codemirror_mode": {
    "name": "ipython",
    "version": 3
   },
   "file_extension": ".py",
   "mimetype": "text/x-python",
   "name": "python",
   "nbconvert_exporter": "python",
   "pygments_lexer": "ipython3",
   "version": "3.10.2"
  }
 },
 "nbformat": 4,
 "nbformat_minor": 5
}
